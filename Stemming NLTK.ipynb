{
 "cells": [
  {
   "cell_type": "code",
   "execution_count": 6,
   "id": "f44d548f",
   "metadata": {},
   "outputs": [
    {
     "name": "stdout",
     "output_type": "stream",
     "text": [
      "play : play\n",
      "playing : play\n",
      "played : play\n",
      "plays : play\n"
     ]
    }
   ],
   "source": [
    "# Nama : Billy Pratama Lesmana\n",
    "# NIM : 181011401863\n",
    "# Kelas : 07TPLM010\n",
    "\n",
    "# Tugas Mata Kuliah Sistem Penunjang Keputusan dengan NIM Akhiran (3)\n",
    "\n",
    "# Stemming menggunakan Algoritma PorterStemmer\n",
    "\n",
    "from nltk.stem import PorterStemmer\n",
    "porter = PorterStemmer()\n",
    "\n",
    "tokens = ['play', 'playing', 'played', 'plays']\n",
    "\n",
    "for token in tokens :\n",
    "    print(token + \" : \" + porter.stem(token))"
   ]
  },
  {
   "cell_type": "code",
   "execution_count": 14,
   "id": "8128dc77",
   "metadata": {},
   "outputs": [
    {
     "name": "stdout",
     "output_type": "stream",
     "text": [
      "play : play\n",
      "playing : play\n",
      "played : play\n",
      "plays : play\n"
     ]
    }
   ],
   "source": [
    "# Stemming dengan algoritma SnowballStemmer\n",
    "from nltk.stem import SnowballStemmer\n",
    "\n",
    "snowball = SnowballStemmer(language='english')\n",
    "\n",
    "for token in tokens:\n",
    "    print(token + \" : \" + snowball.stem(token))"
   ]
  },
  {
   "cell_type": "code",
   "execution_count": 26,
   "id": "ac88e6b7",
   "metadata": {},
   "outputs": [
    {
     "name": "stdout",
     "output_type": "stream",
     "text": [
      "cyb\n",
      "crim\n",
      "is\n",
      "crimin\n",
      "act\n",
      "carry\n",
      "out\n",
      "by\n",
      "mean\n",
      "of\n",
      "comput\n",
      "or\n",
      "the\n",
      "internet\n"
     ]
    }
   ],
   "source": [
    "# Stemming Sentences\n",
    "from nltk.tokenize import word_tokenize\n",
    "\n",
    "lancaster = LancasterStemmer()\n",
    "\n",
    "s = \"cyber crime is criminal activities carried out by means of computers or the internet\"\n",
    "\n",
    "words = word_tokenize(s)\n",
    "\n",
    "for w in words:\n",
    "    print(lancaster.stem(w))"
   ]
  },
  {
   "cell_type": "code",
   "execution_count": 23,
   "id": "722a1974",
   "metadata": {},
   "outputs": [
    {
     "name": "stderr",
     "output_type": "stream",
     "text": [
      "[nltk_data] Downloading package punkt to\n",
      "[nltk_data]     C:\\Users\\Oramian\\AppData\\Roaming\\nltk_data...\n",
      "[nltk_data]   Package punkt is already up-to-date!\n"
     ]
    },
    {
     "data": {
      "text/plain": [
       "True"
      ]
     },
     "execution_count": 23,
     "metadata": {},
     "output_type": "execute_result"
    }
   ],
   "source": [
    "import nltk\n",
    "nltk.download('punkt')"
   ]
  },
  {
   "cell_type": "code",
   "execution_count": 15,
   "id": "95854029",
   "metadata": {},
   "outputs": [
    {
     "name": "stdout",
     "output_type": "stream",
     "text": [
      "play : play\n",
      "playing : play\n",
      "played : play\n",
      "plays : play\n"
     ]
    }
   ],
   "source": [
    "from nltk.stem import LancasterStemmer\n",
    "\n",
    "lancaster = LancasterStemmer()\n",
    "\n",
    "for token in tokens:\n",
    "    print(token + \" : \" + lancaster.stem(token))"
   ]
  },
  {
   "cell_type": "code",
   "execution_count": 32,
   "id": "429bc798",
   "metadata": {},
   "outputs": [
    {
     "data": {
      "text/plain": [
       "\"The Exclusive Economic Zone or EEZ is a defined area limit of 200 miles from the base of the sea area, where the state has the right to the natural resources in it, has the right to use and enforce all of its legal policies, and has the freedom to navigate and fly over the area. The measurement of the EEZ distance is carried out when the sea water is in a receding state. Indonesia's own EEZ boundary was only officially enacted in 1980. This regulation also covers all the rights of the Indonesian government in regulating all forms of exploitation activities that exist on natural resources on the surface, at the bottom, and under the sea, as well as the right to conduct research on natural resources. biological resources or other marine resources in it.\""
      ]
     },
     "execution_count": 32,
     "metadata": {},
     "output_type": "execute_result"
    }
   ],
   "source": [
    "# Tes Stemming Document\n",
    "file=open(\"zeedocs.txt\")\n",
    "file.read()"
   ]
  },
  {
   "cell_type": "code",
   "execution_count": 33,
   "id": "2db00eaf",
   "metadata": {},
   "outputs": [
    {
     "data": {
      "text/plain": [
       "[\"The Exclusive Economic Zone or EEZ is a defined area limit of 200 miles from the base of the sea area, where the state has the right to the natural resources in it, has the right to use and enforce all of its legal policies, and has the freedom to navigate and fly over the area. The measurement of the EEZ distance is carried out when the sea water is in a receding state. Indonesia's own EEZ boundary was only officially enacted in 1980. This regulation also covers all the rights of the Indonesian government in regulating all forms of exploitation activities that exist on natural resources on the surface, at the bottom, and under the sea, as well as the right to conduct research on natural resources. biological resources or other marine resources in it.\"]"
      ]
     },
     "execution_count": 33,
     "metadata": {},
     "output_type": "execute_result"
    }
   ],
   "source": [
    "file=open(\"zeedocs.txt\")\n",
    "my_lines_list=file.readlines()\n",
    "my_lines_list"
   ]
  },
  {
   "cell_type": "code",
   "execution_count": 34,
   "id": "7ad79c71",
   "metadata": {},
   "outputs": [
    {
     "name": "stdout",
     "output_type": "stream",
     "text": [
      "The Exclusive Economic Zone or EEZ is a defined area limit of 200 miles from the base of the sea area, where the state has the right to the natural resources in it, has the right to use and enforce all of its legal policies, and has the freedom to navigate and fly over the area. The measurement of the EEZ distance is carried out when the sea water is in a receding state. Indonesia's own EEZ boundary was only officially enacted in 1980. This regulation also covers all the rights of the Indonesian government in regulating all forms of exploitation activities that exist on natural resources on the surface, at the bottom, and under the sea, as well as the right to conduct research on natural resources. biological resources or other marine resources in it.\n",
      "-- Stemmed Sentences --\n",
      "the exclus econom zone or eez is a defin area limit of 200 mile from the base of the sea area , where the state ha the right to the natur resourc in it , ha the right to use and enforc all of it legal polici , and ha the freedom to navig and fli over the area . the measur of the eez distanc is carri out when the sea water is in a reced state . indonesia 's own eez boundari wa onli offici enact in 1980 . thi regul also cover all the right of the indonesian govern in regul all form of exploit activ that exist on natur resourc on the surfac , at the bottom , and under the sea , as well as the right to conduct research on natur resourc . biolog resourc or other marin resourc in it . \n"
     ]
    }
   ],
   "source": [
    "def StemSentece(sentence):\n",
    "    token_words=word_tokenize(sentence)\n",
    "    token_words\n",
    "    stem_sentence=[]\n",
    "\n",
    "    for word in token_words:\n",
    "        stem_sentence.append(porter.stem(word))\n",
    "        stem_sentence.append(\" \")\n",
    "    return \"\".join(stem_sentence)\n",
    "\n",
    "\n",
    "print(my_lines_list[0])\n",
    "print(\"-- Stemmed Sentences --\")\n",
    "x=StemSentece(my_lines_list[0])\n",
    "print(x)"
   ]
  },
  {
   "cell_type": "code",
   "execution_count": 35,
   "id": "636c280e",
   "metadata": {},
   "outputs": [],
   "source": [
    "stem_file=open(\"zeedocs.txt\",mode=\"a+\", encoding=\"utf-8\")\n",
    "\n",
    "for line in my_lines_list:\n",
    "    stem_sentence=StemSentece(line)\n",
    "    stem_file.write(stem_sentence)\n",
    "    \n",
    "    stem_file.close()\n"
   ]
  },
  {
   "cell_type": "code",
   "execution_count": 36,
   "id": "8b710078",
   "metadata": {},
   "outputs": [
    {
     "name": "stderr",
     "output_type": "stream",
     "text": [
      "[nltk_data] Downloading package wordnet to\n",
      "[nltk_data]     C:\\Users\\Oramian\\AppData\\Roaming\\nltk_data...\n",
      "[nltk_data]   Unzipping corpora\\wordnet.zip.\n"
     ]
    },
    {
     "data": {
      "text/plain": [
       "True"
      ]
     },
     "execution_count": 36,
     "metadata": {},
     "output_type": "execute_result"
    }
   ],
   "source": [
    "import nltk\n",
    "nltk.download('wordnet')"
   ]
  },
  {
   "cell_type": "code",
   "execution_count": 39,
   "id": "6ec536a5",
   "metadata": {},
   "outputs": [
    {
     "name": "stdout",
     "output_type": "stream",
     "text": [
      "play : play\n",
      "playing : playing\n",
      "played : played\n",
      "plays : play\n"
     ]
    }
   ],
   "source": [
    "from nltk.stem import WordNetLemmatizer\n",
    "lemmatizer = WordNetLemmatizer()\n",
    "\n",
    "for token in tokens:\n",
    "    print(token + \" : \" + lemmatizer.lemmatize(token))"
   ]
  },
  {
   "cell_type": "code",
   "execution_count": 40,
   "id": "5dcdccbb",
   "metadata": {},
   "outputs": [
    {
     "name": "stdout",
     "output_type": "stream",
     "text": [
      "Word                Lemma               \n",
      "cyber               cyber               \n",
      "crime               crime               \n",
      "is                  is                  \n",
      "criminal            criminal            \n",
      "activities          activity            \n",
      "carried             carried             \n",
      "out                 out                 \n",
      "by                  by                  \n",
      "means               mean                \n",
      "of                  of                  \n",
      "computers           computer            \n",
      "or                  or                  \n",
      "the                 the                 \n",
      "internet            internet            \n"
     ]
    }
   ],
   "source": [
    "from nltk.stem import WordNetLemmatizer\n",
    "\n",
    "s = \"cyber crime is criminal activities carried out by means of computers or the internet\"\n",
    "words = word_tokenize(s)\n",
    "print(\"{0:20}{1:20}\".format(\"Word\",\"Lemma\"))\n",
    "for w in words:\n",
    "    print(\"{0:20}{1:20}\".format(w,lemmatizer.lemmatize(w)))"
   ]
  },
  {
   "cell_type": "code",
   "execution_count": null,
   "id": "98b5f365",
   "metadata": {},
   "outputs": [],
   "source": []
  }
 ],
 "metadata": {
  "kernelspec": {
   "display_name": "Python 3 (ipykernel)",
   "language": "python",
   "name": "python3"
  },
  "language_info": {
   "codemirror_mode": {
    "name": "ipython",
    "version": 3
   },
   "file_extension": ".py",
   "mimetype": "text/x-python",
   "name": "python",
   "nbconvert_exporter": "python",
   "pygments_lexer": "ipython3",
   "version": "3.9.7"
  }
 },
 "nbformat": 4,
 "nbformat_minor": 5
}
